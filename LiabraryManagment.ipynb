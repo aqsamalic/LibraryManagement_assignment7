{
  "nbformat": 4,
  "nbformat_minor": 0,
  "metadata": {
    "colab": {
      "provenance": [],
      "toc_visible": true,
      "authorship_tag": "ABX9TyOXdlvWjAMIFkCt6iOHt279",
      "include_colab_link": true
    },
    "kernelspec": {
      "name": "python3",
      "display_name": "Python 3"
    },
    "language_info": {
      "name": "python"
    }
  },
  "cells": [
    {
      "cell_type": "markdown",
      "metadata": {
        "id": "view-in-github",
        "colab_type": "text"
      },
      "source": [
        "<a href=\"https://colab.research.google.com/github/aqsamalic/LibraryManagement_assignment7/blob/main/LiabraryManagment.ipynb\" target=\"_parent\"><img src=\"https://colab.research.google.com/assets/colab-badge.svg\" alt=\"Open In Colab\"/></a>"
      ]
    },
    {
      "cell_type": "markdown",
      "source": [
        "Classes and Inheritance:"
      ],
      "metadata": {
        "id": "8Ex3sFQceYxq"
      }
    },
    {
      "cell_type": "code",
      "source": [
        "# @title Default title text\n",
        "from typing import List, Optional\n",
        "\n",
        "# Base User class\n",
        "class User:\n",
        "    def __init__(self, user_id: int, name: str, email: str):\n",
        "        self.user_id = user_id\n",
        "        self.name = name\n",
        "        self.email = email\n",
        "\n",
        "    def display_info(self):\n",
        "        print(f\"User ID: {self.user_id}, Name: {self.name}, Email: {self.email}\")\n",
        "\n",
        "# Librarian class that inherits User\n",
        "class Librarian(User):\n",
        "    def __init__(self, user_id: int, name: str, email: str):\n",
        "        super().__init__(user_id, name, email)\n",
        "\n",
        "# Member class that inherits User\n",
        "class Member(User):\n",
        "    def __init__(self, user_id: int, name: str, email: str):\n",
        "        super().__init__(user_id, name, email)\n",
        "        self.borrowed_books: List[str] = []\n",
        "\n",
        "    def borrow_book(self, book_id: int, library_manager):\n",
        "        library_manager.borrow_book(self, book_id)\n",
        "\n",
        "    def return_book(self, book_id: int, library_manager):\n",
        "        library_manager.return_book(self, book_id)\n"
      ],
      "metadata": {
        "id": "U9iatbvzexGI"
      },
      "execution_count": 9,
      "outputs": []
    },
    {
      "cell_type": "markdown",
      "source": [
        "2-Book Class:"
      ],
      "metadata": {
        "id": "itJzBg9te5U3"
      }
    },
    {
      "cell_type": "code",
      "source": [
        "class Book:\n",
        "    def __init__(self, book_id: int, title: str, author: str, available: bool = True):\n",
        "        self.book_id = book_id\n",
        "        self.title = title\n",
        "        self.author = author\n",
        "        self.available = available\n",
        "\n",
        "    def display_info(self):\n",
        "        status = 'Available' if self.available else 'Borrowed'\n",
        "        print(f\"ID: {self.book_id}, Title: {self.title}, Author: {self.author}, Status: {status}\")\n",
        "\n",
        "    def borrow(self):\n",
        "        if self.available:\n",
        "            self.available = False\n",
        "        else:\n",
        "            raise Exception(\"Book is already borrowed!\")\n",
        "\n",
        "    def return_book(self):\n",
        "        self.available = True\n"
      ],
      "metadata": {
        "id": "fBtNpDRvfF8t"
      },
      "execution_count": 10,
      "outputs": []
    },
    {
      "cell_type": "markdown",
      "source": [
        "3. Library Management:"
      ],
      "metadata": {
        "id": "ug89-WhPfWUa"
      }
    },
    {
      "cell_type": "code",
      "source": [
        "import os\n",
        "import json\n",
        "\n",
        "class LibraryManager:\n",
        "    def __init__(self, book_file: str = 'books.txt', user_file: str = 'users.txt'):\n",
        "        self.book_file = book_file\n",
        "        self.user_file = user_file\n",
        "        self.books: List[Book] = []\n",
        "        self.users: List[User] = []\n",
        "        self.load_books()\n",
        "        self.load_users()\n",
        "\n",
        "    # Load books from file\n",
        "    def load_books(self):\n",
        "        try:\n",
        "            if os.path.exists(self.book_file):\n",
        "                with open(self.book_file, 'r') as file:\n",
        "                    book_data = json.load(file)\n",
        "                    for item in book_data:\n",
        "                        book = Book(**item)\n",
        "                        self.books.append(book)\n",
        "        except Exception as e:\n",
        "            print(f\"Error loading books: {e}\")\n",
        "\n",
        "    # Load users from file\n",
        "    def load_users(self):\n",
        "        try:\n",
        "            if os.path.exists(self.user_file):\n",
        "                with open(self.user_file, 'r') as file:\n",
        "                    user_data = json.load(file)\n",
        "                    for item in user_data:\n",
        "                        user_type = item.pop('type')\n",
        "                        if user_type == 'Librarian':\n",
        "                            user = Librarian(**item)\n",
        "                        else:\n",
        "                            user = Member(**item)\n",
        "                        self.users.append(user)\n",
        "        except Exception as e:\n",
        "            print(f\"Error loading users: {e}\")\n",
        "\n",
        "    # Save books to file\n",
        "    def save_books(self):\n",
        "        try:\n",
        "            with open(self.book_file, 'w') as file:\n",
        "                book_data = [vars(book) for book in self.books]\n",
        "                json.dump(book_data, file)\n",
        "        except Exception as e:\n",
        "            print(f\"Error saving books: {e}\")\n",
        "\n",
        "    # Save users to file\n",
        "    def save_users(self):\n",
        "        try:\n",
        "            with open(self.user_file, 'w') as file:\n",
        "                user_data = []\n",
        "                for user in self.users:\n",
        "                    data = vars(user)\n",
        "                    if isinstance(user, Librarian):\n",
        "                        data['type'] = 'Librarian'\n",
        "                    else:\n",
        "                        data['type'] = 'Member'\n",
        "                    user_data.append(data)\n",
        "                json.dump(user_data, file)\n",
        "        except Exception as e:\n",
        "            print(f\"Error saving users: {e}\")\n",
        "\n",
        "    # Add a new book (for librarians)\n",
        "    def add_book(self, librarian: Librarian, book: Book):\n",
        "        if isinstance(librarian, Librarian):\n",
        "            self.books.append(book)\n",
        "            self.save_books()\n",
        "            print(f\"Book '{book.title}' added successfully.\")\n",
        "        else:\n",
        "            print(\"Only librarians can add books!\")\n",
        "\n",
        "    # Update book details (for librarians)\n",
        "    def update_book(self, librarian: Librarian, book_id: int, title: Optional[str] = None, author: Optional[str] = None):\n",
        "        if isinstance(librarian, Librarian):\n",
        "            for book in self.books:\n",
        "                if book.book_id == book_id:\n",
        "                    if title:\n",
        "                        book.title = title\n",
        "                    if author:\n",
        "                        book.author = author\n",
        "                    self.save_books()\n",
        "                    print(f\"Book '{book.title}' updated successfully.\")\n",
        "                    return\n",
        "            print(f\"Book with ID {book_id} not found!\")\n",
        "        else:\n",
        "            print(\"Only librarians can update books!\")\n",
        "\n",
        "    # Delete a book (for librarians)\n",
        "    def delete_book(self, librarian: Librarian, book_id: int):\n",
        "        if isinstance(librarian, Librarian):\n",
        "            self.books = [book for book in self.books if book.book_id != book_id]\n",
        "            self.save_books()\n",
        "            print(f\"Book with ID {book_id} deleted successfully.\")\n",
        "        else:\n",
        "            print(\"Only librarians can delete books!\")\n",
        "\n",
        "    # Borrow a book (for members)\n",
        "    def borrow_book(self, member: Member, book_id: int):\n",
        "        for book in self.books:\n",
        "            if book.book_id == book_id:\n",
        "                if book.available:\n",
        "                    book.borrow()\n",
        "                    member.borrowed_books.append(book.title)\n",
        "                    self.save_books()\n",
        "                    print(f\"{member.name} borrowed '{book.title}'\")\n",
        "                else:\n",
        "                    print(\"Book is not available.\")\n",
        "                return\n",
        "        print(f\"Book with ID {book_id} not found.\")\n",
        "\n",
        "    # Return a book (for members)\n",
        "    def return_book(self, member: Member, book_id: int):\n",
        "        for book in self.books:\n",
        "            if book.book_id == book_id and book.title in member.borrowed_books:\n",
        "                book.return_book()\n",
        "                member.borrowed_books.remove(book.title)\n",
        "                self.save_books()\n",
        "                print(f\"{member.name} returned '{book.title}'\")\n",
        "                return\n",
        "        print(f\"Book with ID {book_id} not found or not borrowed by {member.name}.\")\n"
      ],
      "metadata": {
        "id": "cZYUbdr8fXnN"
      },
      "execution_count": 13,
      "outputs": []
    },
    {
      "cell_type": "markdown",
      "source": [],
      "metadata": {
        "id": "_Mf6j7OYnllx"
      }
    }
  ]
}